{
 "cells": [
  {
   "cell_type": "markdown",
   "metadata": {},
   "source": [
    "# Assignment 2\n",
    "\n",
    "Before working on this assignment please read these instructions fully. In the submission area, you will notice that you can click the link to **Preview the Grading** for each step of the assignment. This is the criteria that will be used for peer grading. Please familiarize yourself with the criteria before beginning the assignment.\n",
    "\n",
    "An NOAA dataset has been stored in the file `data/C2A2_data/BinnedCsvs_d400/fb441e62df2d58994928907a91895ec62c2c42e6cd075c2700843b89.csv`. This is the dataset to use for this assignment. Note: The data for this assignment comes from a subset of The National Centers for Environmental Information (NCEI) [Daily Global Historical Climatology Network](https://www1.ncdc.noaa.gov/pub/data/ghcn/daily/readme.txt) (GHCN-Daily). The GHCN-Daily is comprised of daily climate records from thousands of land surface stations across the globe.\n",
    "\n",
    "Each row in the assignment datafile corresponds to a single observation.\n",
    "\n",
    "The following variables are provided to you:\n",
    "\n",
    "* **id** : station identification code\n",
    "* **date** : date in YYYY-MM-DD format (e.g. 2012-01-24 = January 24, 2012)\n",
    "* **element** : indicator of element type\n",
    "    * TMAX : Maximum temperature (tenths of degrees C)\n",
    "    * TMIN : Minimum temperature (tenths of degrees C)\n",
    "* **value** : data value for element (tenths of degrees C)\n",
    "\n",
    "For this assignment, you must:\n",
    "\n",
    "1. Read the documentation and familiarize yourself with the dataset, then write some python code which returns a line graph of the record high and record low temperatures by day of the year over the period 2005-2014. The area between the record high and record low temperatures for each day should be shaded.\n",
    "2. Overlay a scatter of the 2015 data for any points (highs and lows) for which the ten year record (2005-2014) record high or record low was broken in 2015.\n",
    "3. Watch out for leap days (i.e. February 29th), it is reasonable to remove these points from the dataset for the purpose of this visualization.\n",
    "4. Make the visual nice! Leverage principles from the first module in this course when developing your solution. Consider issues such as legends, labels, and chart junk.\n",
    "\n",
    "The data you have been given is near **Ann Arbor, Michigan, United States**, and the stations the data comes from are shown on the map below."
   ]
  },
  {
   "cell_type": "code",
   "execution_count": null,
   "metadata": {
    "collapsed": false
   },
   "outputs": [],
   "source": [
    "import matplotlib.pyplot as plt\n",
    "import mplleaflet\n",
    "import pandas as pd\n",
    "\n",
    "def leaflet_plot_stations(binsize, hashid):\n",
    "\n",
    "    df = pd.read_csv('data/C2A2_data/BinSize_d{}.csv'.format(binsize))\n",
    "\n",
    "    station_locations_by_hash = df[df['hash'] == hashid]\n",
    "\n",
    "    lons = station_locations_by_hash['LONGITUDE'].tolist()\n",
    "    lats = station_locations_by_hash['LATITUDE'].tolist()\n",
    "\n",
    "    plt.figure(figsize=(8,8))\n",
    "\n",
    "    plt.scatter(lons, lats, c='r', alpha=0.7, s=200)\n",
    "\n",
    "    return mplleaflet.display()\n",
    "\n",
    "leaflet_plot_stations(400,'fb441e62df2d58994928907a91895ec62c2c42e6cd075c2700843b89')"
   ]
  },
  {
   "cell_type": "code",
   "execution_count": null,
   "metadata": {
    "collapsed": false
   },
   "outputs": [],
   "source": [
    "import matplotlib.pyplot as plt\n",
    "import pandas as pd\n",
    "import numpy as np\n",
    "df = pd.read_csv('data/C2A2_data/BinnedCsvs_d400/fb441e62df2d58994928907a91895ec62c2c42e6cd075c2700843b89.csv')\n",
    "df.head()\n"
   ]
  },
  {
   "cell_type": "code",
   "execution_count": null,
   "metadata": {
    "collapsed": false
   },
   "outputs": [],
   "source": [
    "df['Year'] = pd.DatetimeIndex(df['Date']).year\n",
    "df['Month'] = pd.DatetimeIndex(df['Date']).month\n",
    "df['Day'] = pd.DatetimeIndex(df['Date']).day\n",
    "df['Month_day'] = df['Month'].map(str) + '-' + df['Day'].map(str) \n",
    "df.drop(['Month', 'Day'], axis=1, inplace = True)\n",
    "df = df[df['Month_day'] != '02-29']\n",
    "df_ten_years = df[~(df['Year'] == 2015)]\n",
    "df_2015 = df[df['Year'] == 2015]\n",
    "df_2015.head()"
   ]
  },
  {
   "cell_type": "code",
   "execution_count": null,
   "metadata": {
    "collapsed": false
   },
   "outputs": [],
   "source": [
    "min_ten_years = df_ten_years.groupby('Month_day').agg({'Data_Value': 'min'})\n",
    "\n",
    "max_ten_years = df_ten_years.groupby('Month_day').agg({'Data_Value': 'max'})\n",
    "\n",
    "min_2015 = df_2015.groupby('Month_day').agg({'Data_Value': 'min'})\n",
    "max_2015 = df_2015.groupby('Month_day').agg({'Data_Value': 'max'})\n",
    "\n",
    "df_max = pd.merge(max_ten_years.reset_index(), max_2015.reset_index(), left_index=True, on = 'Month_day')\n",
    "df_max.rename(columns={'Data_Value_x': 'Max_2005_2014', 'Data_Value_y': 'Max_2015'}, inplace=True)\n",
    "df_min = pd.merge(min_ten_years.reset_index(), min_2015.reset_index(), left_index=True, on = 'Month_day')\n",
    "df_min.rename(columns={'Data_Value_x': 'Min_2005_2014', 'Data_Value_y': 'Min_2015'}, inplace=True)\n",
    "max_ten_years.head()"
   ]
  },
  {
   "cell_type": "code",
   "execution_count": null,
   "metadata": {
    "collapsed": false
   },
   "outputs": [],
   "source": [
    "diff_max = df_max[df_max['Max_2015'] > df_max['Max_2005_2014']]\n",
    "diff_min = df_min[df_min['Min_2015'] < df_min['Min_2005_2014']]\n",
    "diff_max.head()"
   ]
  },
  {
   "cell_type": "code",
   "execution_count": null,
   "metadata": {
    "collapsed": false
   },
   "outputs": [],
   "source": [
    "%matplotlib inline\n",
    "plt.figure(figsize=(15,10))\n",
    "\n",
    "plt.plot(max_ten_years.values, color = 'pink', label ='High')\n",
    "plt.plot(min_ten_years.values, color = 'lightblue', label ='Low')\n",
    "\n",
    "plt.xlabel('Days', fontsize=20)\n",
    "plt.ylabel('Temperature', fontsize=20)\n",
    "plt.title('High and low temperature records 2005-2014 versus 2015.', fontsize=20)\n",
    "\n",
    "plt.scatter(diff_max.index.tolist(), diff_max['Max_2015'].values, c = 'darkred', marker='*',s = 100, label = \"High in 2015\")\n",
    "plt.scatter(diff_min.index.tolist(), diff_min['Min_2015'].values, c = 'blue', marker='*', s = 100, label = \"Low in 2015\")\n",
    "\n",
    "\n",
    "plt.gca().fill_between(range(len(max_ten_years)), \n",
    "                       np.array(max_ten_years.values.reshape(len(min_ten_years.values),)), \n",
    "                       np.array(min_ten_years.values.reshape(len(min_ten_years.values),)), \n",
    "                       facecolor = '#7f7f7f', \n",
    "                       alpha=0.1)\n",
    "\n",
    "plt.legend(loc=4, fontsize=14, frameon=False)\n",
    "\n",
    "plt.show()"
   ]
  }
 ],
 "metadata": {
  "kernelspec": {
   "display_name": "Python 3",
   "language": "python",
   "name": "python3"
  },
  "language_info": {
   "codemirror_mode": {
    "name": "ipython",
    "version": 3
   },
   "file_extension": ".py",
   "mimetype": "text/x-python",
   "name": "python",
   "nbconvert_exporter": "python",
   "pygments_lexer": "ipython3",
   "version": "3.6.2"
  }
 },
 "nbformat": 4,
 "nbformat_minor": 1
}
